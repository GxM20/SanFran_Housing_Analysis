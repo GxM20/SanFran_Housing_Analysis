


# Import the required libraries and dependencies
import pandas as pd
import hvplot.pandas
from pathlib import Path
import numpy as np





# Using the read_csv function and Path module, create a DataFrame 
# by importing the sfo_neighborhoods_census_data.csv file from the Resources folder
csvpath = Path("Resources/sfo_neighborhoods_census_data.csv")
sfo_data_df = pd.read_csv(csvpath)

# Review the first and last five rows of the DataFrame
display(sfo_data_df.head())
display(sfo_data_df.tail())











# Create a numerical aggregation that groups the data by the year and then averages the results.
housing_units_by_year = (
    sfo_data_df[["housing_units", "year"]]
    .groupby("year")
    .mean()
)
# Review the DataFrame
housing_units_by_year.head()






# Create a visual aggregation explore the housing units by year
# ymin = 360000
# ymax = 400000
housing_units_by_year.hvplot.bar(
    x='year',
    y='housing_units',
    xlabel='Year',
    ylabel='Housing Units',
    ylim=(365000, 385000),
    title = "Housing Units in San Francisco 2010 - 2016",
    color = 'maroon',
    hover_color = 'red'
).opts(yformatter = '%.0f')

















# Create a numerical aggregation by grouping the data by year and averaging the results
prices_square_foot_by_year = (
    sfo_data_df[["sale_price_sqr_foot", "gross_rent", "year"]]
    .groupby("year")
    .mean()
)

# Review the resulting DataFrame
prices_square_foot_by_year








# Filter out the housing_units column, creating a new DataFrame 
# Keep only sale_price_sqr_foot and gross_rent averages per year
# Completed above, copied to this cell
prices_square_foot_by_year = (
    sfo_data_df[["sale_price_sqr_foot", "gross_rent", "year"]]
    .groupby("year")
    .mean()
)

# Review the DataFrame
prices_square_foot_by_year





# Plot prices_square_foot_by_year. 
# Inclued labels for the x- and y-axes, and a title.
prices_square_foot_by_year.hvplot(
    x='year',
    y=('sale_price_sqr_foot', 'gross_rent'),
    xlabel='Year',
    ylabel='Gross Rent / Sale Price per Square Foot',
    title= 'Sale Price/Square Foot & Average Gross Rent San Francisco 2010-2016'
).opts(yformatter='$%.0f')




















# Group by year and neighborhood and then create a new dataframe of the mean values
prices_by_year_by_neighborhood = (
    sfo_data_df[["sale_price_sqr_foot", "housing_units", "neighborhood", "gross_rent", "year"]]
    .groupby(["year", "neighborhood"])
    .mean()
)
# Review the DataFrame
sfo_data_df.head()





# Filter out the housing_units
prices_by_year_by_neighborhood = (
    sfo_data_df[["sale_price_sqr_foot", "neighborhood", "gross_rent", "year"]]
    .groupby(["year", "neighborhood"])
    .mean()
)

# Review the first and last five rows of the DataFrame
display(prices_by_year_by_neighborhood.head())
display(prices_by_year_by_neighborhood.tail())





# Use hvplot to create an interactive line plot of the average price per square foot
# The plot should have a dropdown selector for the neighborhood
prices_by_year_by_neighborhood.hvplot(
    x='year',
    y=('sale_price_sqr_foot', 'gross_rent'),
    xlabel='Year',
    ylabel='Gross Rent / Sale Price per Square Foot',
    title= 'Sale Price/Square Foot & Average Gross Rent SF 2010-2016 by Neighborhood',
    groupby= 'neighborhood'
).opts(yformatter='$%.0f')

















# Load neighborhoods coordinates data
neighborhood_locations_df = pd.read_csv(Path("Resources/neighborhoods_coordinates.csv"))

# Set index to Neighborhood
neighborhood_locations_df = neighborhood_locations_df.set_index(neighborhood_locations_df['Neighborhood'])

# Drop redundant Neighborhood column
neighborhood_locations_df = neighborhood_locations_df.drop(columns=['Neighborhood'])

# Review the DataFrame
neighborhood_locations_df.head()





#Calculate the mean values for each neighborhood
all_neighborhood_info_df = (
    sfo_data_df[['year', 'neighborhood', 'sale_price_sqr_foot', 'housing_units', 'gross_rent']]
    .groupby('neighborhood')
    .mean()
)
# Review the resulting DataFrame
all_neighborhood_info_df.head()





# # convert year to int to remove decimals
# all_neighborhood_info_df['year'] = all_neighborhood_info_df['year'].astype(int)
# all_neighborhood_info_df.head()
all_neighborhood_info_df.head()


# Using the Pandas `concat` function, join the 
# neighborhood_locations_df and the all_neighborhood_info_df DataFrame
# The axis of the concatenation is "columns".
# The concat function will automatially combine columns with
# identical information, while keeping the additional columns.
all_neighborhoods_df = pd.concat(
    [neighborhood_locations_df, all_neighborhood_info_df], 
    axis="columns",
    sort=False
)

# Review the resulting DataFrame
display(all_neighborhoods_df.head())
display(all_neighborhoods_df.tail())



# Call the dropna function to remove any neighborhoods that do not have data
all_neighborhoods_df = all_neighborhoods_df.reset_index().dropna()

# Rename the "index" column as "Neighborhood" for use in the Visualization
all_neighborhoods_df = all_neighborhoods_df.rename(columns={"index": "Neighborhood"})

# Review the resulting DataFrame
display(all_neighborhoods_df.head())
display(all_neighborhoods_df.tail())





# Rename Lat and Lon to Latitude and Longitude for graphing

all_neighborhoods_df = all_neighborhoods_df.rename(columns={'Lat': 'Latitude', 'Lon':'Longitude'})
all_neighborhoods_df.head()


# Create a plot to analyze neighborhood info
all_neighborhoods_df.hvplot.points(
    'Longitude', 
    'Latitude', 
    geo=True,
    size='sale_price_sqr_foot',
    color='gross_rent',
    tiles='OSM',
    frame_width=700,
    frame_height=500,
    size_max=25,
    zoom=11,
    hover_cols=['Neighborhood'],
    title='Map of SF Neighborhoods by Sale Price per Square Foot & Gross Rent')

















rent_by_price = (
    all_neighborhoods_df[['gross_rent', 'sale_price_sqr_foot', 'Neighborhood']]
    .groupby('Neighborhood')
    .mean()
)



rent_by_price.hvplot.scatter(
    x='gross_rent',
    y='sale_price_sqr_foot',
    xlabel='Gross Rent',
    ylabel='Price per Square Foot',
    hover_cols=['Neighborhood'],
    title='Scatter plot of Rent vs. Price per Square Foot by Neighborhood'
)




